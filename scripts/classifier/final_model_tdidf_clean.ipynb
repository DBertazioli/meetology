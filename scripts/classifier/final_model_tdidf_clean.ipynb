{
 "cells": [
  {
   "cell_type": "code",
   "execution_count": 9,
   "metadata": {},
   "outputs": [],
   "source": [
    "import sys\n",
    "import numpy as np\n",
    "import pandas as pd\n",
    "\n",
    "import warnings\n",
    "warnings.filterwarnings('ignore')\n",
    "#warnings.filterwarnings(action='once')"
   ]
  },
  {
   "cell_type": "markdown",
   "metadata": {},
   "source": [
    "## Final Tf-idf based model"
   ]
  },
  {
   "cell_type": "code",
   "execution_count": 10,
   "metadata": {},
   "outputs": [],
   "source": [
    "#process=True\n",
    "process=False\n",
    "\n",
    "if process:\n",
    "    df=pd.read_csv(\"processed_description_sine_error.csv\")\n",
    "\n",
    "    df.shape\n",
    "\n",
    "    df=df[df[\"processed_description\"].isna()!=True]\n",
    "\n",
    "    bad_words=[\"www\", \"http\", \"https\", \"th\", \"pm\", \"ticket\", \"org\", \"event\", \"link\", \"registr\",\n",
    "               \"meetup\", \"event\", \"group\", \"regist\", \"pleas\", \"please\", \"join\", \"rsvp\", \"member\", \n",
    "               \"venu\", \"free\", \"comment\", \"thank\", \"attend\", \"eventbrit\", \"mr\", \"st\", \"rd\", \"hour\", \"new\", \"time\", \n",
    "               \"boston\", \"like\"   ]\n",
    "    def clean_description(desc):\n",
    "        good_words=[elem for elem in desc.split() if elem not in bad_words]\n",
    "        return ' '.join(good_words)\n",
    "\n",
    "\n",
    "    \"\"\"desc_try=df['description'][0]\n",
    "    desc_try\n",
    "\n",
    "    clean_description(desc_try)\"\"\";\n",
    "\n",
    "    from multiprocessing import cpu_count, Pool\n",
    "\n",
    "    #cores = cpu_count() #Number of CPU cores on your system\n",
    "    cores=4\n",
    "    partitions = cores #Define as many partitions as you want\n",
    "\n",
    "    def parallelize(data, func):\n",
    "        data_split = np.array_split(data, partitions)\n",
    "        pool = Pool(cores)\n",
    "        data = pd.concat(pool.map(func, data_split))\n",
    "        pool.close()\n",
    "        pool.join()\n",
    "        return data\n",
    "    #df[\"yolo\"]=\"NaN\"\n",
    "    def test_func(data):\n",
    "        #print \"Process working on: \",data\n",
    "        data['processed_description'] = data.processed_description.map(clean_description)\n",
    "        return data\n",
    "\n",
    "    df = parallelize(df, test_func)\n",
    "\n",
    "    df.head()\n",
    "\n",
    "    #df.to_csv(\"processed_df_no_badwords.csv\")\n",
    "else:\n",
    "    df=pd.read_csv(\"processed_df_no_badwords.csv\")"
   ]
  },
  {
   "cell_type": "code",
   "execution_count": 11,
   "metadata": {},
   "outputs": [
    {
     "data": {
      "text/html": [
       "<div>\n",
       "<style scoped>\n",
       "    .dataframe tbody tr th:only-of-type {\n",
       "        vertical-align: middle;\n",
       "    }\n",
       "\n",
       "    .dataframe tbody tr th {\n",
       "        vertical-align: top;\n",
       "    }\n",
       "\n",
       "    .dataframe thead th {\n",
       "        text-align: right;\n",
       "    }\n",
       "</style>\n",
       "<table border=\"1\" class=\"dataframe\">\n",
       "  <thead>\n",
       "    <tr style=\"text-align: right;\">\n",
       "      <th></th>\n",
       "      <th>Unnamed: 0</th>\n",
       "      <th>description</th>\n",
       "      <th>category_bin</th>\n",
       "      <th>lang_ok</th>\n",
       "      <th>processed_description</th>\n",
       "    </tr>\n",
       "  </thead>\n",
       "  <tbody>\n",
       "    <tr>\n",
       "      <th>0</th>\n",
       "      <td>0</td>\n",
       "      <td>&lt;p&gt;FOOD AND FELLOWSHIP | 5 PM&lt;/p&gt; \\n&lt;p&gt;CONCERT...</td>\n",
       "      <td>27</td>\n",
       "      <td>english</td>\n",
       "      <td>food fellowship concert may us morn star churc...</td>\n",
       "    </tr>\n",
       "    <tr>\n",
       "      <th>1</th>\n",
       "      <td>1</td>\n",
       "      <td>&lt;p&gt;&lt;b&gt;【WhyNot!?JAPAN + MeetUp Collaboration Ev...</td>\n",
       "      <td>28</td>\n",
       "      <td>english</td>\n",
       "      <td>whynot japan collabor peopl come whynot japan ...</td>\n",
       "    </tr>\n",
       "    <tr>\n",
       "      <th>2</th>\n",
       "      <td>2</td>\n",
       "      <td>&lt;p&gt;TENTATIVE&lt;br&gt;&lt;/p&gt;\\n&lt;p&gt;&lt;br&gt;&lt;/p&gt;\\n&lt;p&gt;10.30 - ...</td>\n",
       "      <td>31</td>\n",
       "      <td>english</td>\n",
       "      <td>tentat introduct orient session break network ...</td>\n",
       "    </tr>\n",
       "    <tr>\n",
       "      <th>3</th>\n",
       "      <td>3</td>\n",
       "      <td>&lt;p&gt;&lt;span&gt;Hey explorersssss, what's up?&lt;/span&gt;&lt;...</td>\n",
       "      <td>15</td>\n",
       "      <td>english</td>\n",
       "      <td>hey explorersssss say night view hong kong vic...</td>\n",
       "    </tr>\n",
       "    <tr>\n",
       "      <th>4</th>\n",
       "      <td>4</td>\n",
       "      <td>&lt;p&gt;Free, unauditioned, collaborative pop choir...</td>\n",
       "      <td>18</td>\n",
       "      <td>english</td>\n",
       "      <td>unaudit collabor pop choir identifi women see ...</td>\n",
       "    </tr>\n",
       "  </tbody>\n",
       "</table>\n",
       "</div>"
      ],
      "text/plain": [
       "   Unnamed: 0                                        description  \\\n",
       "0           0  <p>FOOD AND FELLOWSHIP | 5 PM</p> \\n<p>CONCERT...   \n",
       "1           1  <p><b>【WhyNot!?JAPAN + MeetUp Collaboration Ev...   \n",
       "2           2  <p>TENTATIVE<br></p>\\n<p><br></p>\\n<p>10.30 - ...   \n",
       "3           3  <p><span>Hey explorersssss, what's up?</span><...   \n",
       "4           4  <p>Free, unauditioned, collaborative pop choir...   \n",
       "\n",
       "   category_bin  lang_ok                              processed_description  \n",
       "0            27  english  food fellowship concert may us morn star churc...  \n",
       "1            28  english  whynot japan collabor peopl come whynot japan ...  \n",
       "2            31  english  tentat introduct orient session break network ...  \n",
       "3            15  english  hey explorersssss say night view hong kong vic...  \n",
       "4            18  english  unaudit collabor pop choir identifi women see ...  "
      ]
     },
     "execution_count": 11,
     "metadata": {},
     "output_type": "execute_result"
    }
   ],
   "source": [
    "df.head()"
   ]
  },
  {
   "cell_type": "code",
   "execution_count": 12,
   "metadata": {},
   "outputs": [],
   "source": [
    "df=df[df[\"processed_description\"].isna()!=True]"
   ]
  },
  {
   "cell_type": "code",
   "execution_count": 13,
   "metadata": {},
   "outputs": [],
   "source": [
    "from sklearn.model_selection import train_test_split, GridSearchCV\n",
    "from sklearn.feature_extraction.text import CountVectorizer, TfidfVectorizer\n",
    "\n",
    "from sklearn.naive_bayes import MultinomialNB\n",
    "from sklearn.ensemble import RandomForestClassifier\n",
    "from sklearn import metrics\n",
    "from sklearn.metrics import classification_report, roc_curve, auc"
   ]
  },
  {
   "cell_type": "code",
   "execution_count": 14,
   "metadata": {},
   "outputs": [],
   "source": [
    "X_data = df['processed_description']\n",
    "Y_data = df['category_bin']\n",
    "\n",
    "X_train, X_test, Y_train, Y_test = train_test_split(X_data, Y_data, test_size=.25)"
   ]
  },
  {
   "cell_type": "code",
   "execution_count": 15,
   "metadata": {},
   "outputs": [],
   "source": [
    "tf_vectorizer = TfidfVectorizer(analyzer = \"word\", \n",
    "                                tokenizer = None, \n",
    "                                norm = 'l1', \n",
    "                                preprocessor = None, \n",
    "                                max_features = 10000)"
   ]
  },
  {
   "cell_type": "code",
   "execution_count": 16,
   "metadata": {},
   "outputs": [],
   "source": [
    "#load=True\n",
    "load=False\n",
    "\n",
    "if load:\n",
    "    import joblib\n",
    "    X_train_tfidf=joblib.load( \"try_retreat_X_train_tfidf.joblib\")\n",
    "    X_test_vec_tf=joblib.load( \"try_retreat_X_test_vec_tf.joblib\")\n",
    "else:\n",
    "    X_train_tfidf = tf_vectorizer.fit_transform(X_train)\n",
    "    #X_train_tfidf = X_train_tfidf.toarray()\n",
    "    X_train_tfidf.shape\n",
    "    X_test_vec_tf = tf_vectorizer.transform(X_test)\n",
    "    X_test_vec_tf = X_test_vec_tf.toarray()"
   ]
  },
  {
   "cell_type": "code",
   "execution_count": 23,
   "metadata": {},
   "outputs": [],
   "source": [
    "with open('vectorizer.pickle', 'wb') as handle:\n",
    "    pickle.dump(tf_vectorizer, handle)"
   ]
  },
  {
   "cell_type": "code",
   "execution_count": 17,
   "metadata": {},
   "outputs": [],
   "source": [
    "save=False\n",
    "\n",
    "if save:\n",
    "    import joblib\n",
    "    joblib.dump(X_train_tfidf, \"try_retreat_X_train_tfidf.joblib\")\n",
    "\n",
    "    joblib.dump(X_test_vec_tf, \"try_retreat_X_test_vec_tf.joblib\")\n",
    "\n",
    "    "
   ]
  },
  {
   "cell_type": "code",
   "execution_count": 18,
   "metadata": {},
   "outputs": [],
   "source": [
    "#del X_train_tfidf\n",
    "del df"
   ]
  },
  {
   "cell_type": "code",
   "execution_count": 21,
   "metadata": {},
   "outputs": [],
   "source": [
    "forest = RandomForestClassifier(n_jobs=5, n_estimators=20)#, n_estimators=160)#, n_estimators=10, bootstrap=False, random_state=31456 ) \n",
    "forest = forest.fit(X_train_tfidf, Y_train)"
   ]
  },
  {
   "cell_type": "code",
   "execution_count": 22,
   "metadata": {},
   "outputs": [
    {
     "data": {
      "text/plain": [
       "0.7416269113149847"
      ]
     },
     "execution_count": 22,
     "metadata": {},
     "output_type": "execute_result"
    }
   ],
   "source": [
    "forest.score(X_test_vec_tf, Y_test)#10 est"
   ]
  },
  {
   "cell_type": "code",
   "execution_count": null,
   "metadata": {},
   "outputs": [],
   "source": [
    "predictions = forest.predict(X_test_vec_tf)"
   ]
  },
  {
   "cell_type": "code",
   "execution_count": null,
   "metadata": {},
   "outputs": [],
   "source": [
    "print(metrics.classification_report(Y_test, predictions)) #200 features"
   ]
  },
  {
   "cell_type": "code",
   "execution_count": 22,
   "metadata": {},
   "outputs": [
    {
     "data": {
      "text/plain": [
       "0.7377422196124486"
      ]
     },
     "execution_count": 22,
     "metadata": {},
     "output_type": "execute_result"
    }
   ],
   "source": [
    "forest.score(X_test_vec_tf, Y_test)#20 est"
   ]
  },
  {
   "cell_type": "code",
   "execution_count": 26,
   "metadata": {},
   "outputs": [
    {
     "data": {
      "text/plain": [
       "0.7484096692111959"
      ]
     },
     "execution_count": 26,
     "metadata": {},
     "output_type": "execute_result"
    }
   ],
   "source": [
    "forest.score(X_test_vec_tf, Y_test)#50 est"
   ]
  },
  {
   "cell_type": "code",
   "execution_count": 25,
   "metadata": {},
   "outputs": [
    {
     "data": {
      "text/plain": [
       "0.7523732628694461"
      ]
     },
     "execution_count": 25,
     "metadata": {},
     "output_type": "execute_result"
    }
   ],
   "source": [
    "forest.score(X_test_vec_tf, Y_test)#100 est"
   ]
  },
  {
   "cell_type": "code",
   "execution_count": 32,
   "metadata": {},
   "outputs": [
    {
     "data": {
      "text/plain": [
       "0.7517371305539244"
      ]
     },
     "execution_count": 32,
     "metadata": {},
     "output_type": "execute_result"
    }
   ],
   "source": [
    "forest.score(X_test_vec_tf, Y_test)#150 est"
   ]
  },
  {
   "cell_type": "code",
   "execution_count": null,
   "metadata": {},
   "outputs": [],
   "source": [
    "forest.score(X_test_vec_tf, Y_test)#200 est"
   ]
  },
  {
   "cell_type": "code",
   "execution_count": null,
   "metadata": {},
   "outputs": [],
   "source": [
    "predictions = forest.predict(X_test_vec_tf)\n"
   ]
  },
  {
   "cell_type": "code",
   "execution_count": null,
   "metadata": {},
   "outputs": [],
   "source": [
    "print(metrics.classification_report(Y_test, predictions)) #200 features"
   ]
  },
  {
   "cell_type": "code",
   "execution_count": 31,
   "metadata": {},
   "outputs": [
    {
     "name": "stdout",
     "output_type": "stream",
     "text": [
      "              precision    recall  f1-score   support\n",
      "\n",
      "           0       0.93      0.51      0.66       403\n",
      "           1       0.90      0.78      0.84       180\n",
      "           2       0.68      0.59      0.63       305\n",
      "           3       0.77      0.84      0.80      3912\n",
      "           4       0.91      0.59      0.72       298\n",
      "           5       0.90      0.48      0.62       733\n",
      "           6       0.82      0.84      0.83       927\n",
      "           7       0.83      0.53      0.65       820\n",
      "           8       0.91      0.35      0.50        84\n",
      "           9       0.81      0.63      0.71       884\n",
      "          10       0.82      0.75      0.79      1927\n",
      "          11       0.80      0.60      0.68      1231\n",
      "          12       0.82      0.86      0.84      1236\n",
      "          13       0.72      0.81      0.76      3801\n",
      "          14       0.86      0.59      0.70       392\n",
      "          15       0.84      0.70      0.76      1473\n",
      "          16       0.90      0.74      0.82       654\n",
      "          17       0.76      0.55      0.64       432\n",
      "          18       0.82      0.61      0.70       811\n",
      "          19       0.78      0.73      0.75      2524\n",
      "          20       0.77      0.88      0.82      4490\n",
      "          21       1.00      0.23      0.37        22\n",
      "          22       0.91      0.55      0.68       611\n",
      "          23       0.95      0.51      0.66       246\n",
      "          24       0.91      0.80      0.86       515\n",
      "          25       0.84      0.54      0.66       626\n",
      "          26       0.86      0.46      0.60       200\n",
      "          27       0.60      0.44      0.50       650\n",
      "          28       0.53      0.74      0.62      4273\n",
      "          29       0.88      0.86      0.87      2013\n",
      "          30       0.86      0.49      0.62       371\n",
      "          31       0.75      0.89      0.82      3509\n",
      "          32       0.88      0.69      0.77       319\n",
      "\n",
      "    accuracy                           0.75     40872\n",
      "   macro avg       0.83      0.64      0.70     40872\n",
      "weighted avg       0.77      0.75      0.75     40872\n",
      "\n"
     ]
    }
   ],
   "source": [
    "print(metrics.classification_report(Y_test, predictions)) #150 features"
   ]
  },
  {
   "cell_type": "code",
   "execution_count": 19,
   "metadata": {},
   "outputs": [
    {
     "name": "stdout",
     "output_type": "stream",
     "text": [
      "              precision    recall  f1-score   support\n",
      "\n",
      "           0       0.94      0.51      0.66       403\n",
      "           1       0.90      0.78      0.84       180\n",
      "           2       0.71      0.58      0.64       305\n",
      "           3       0.76      0.84      0.80      3912\n",
      "           4       0.92      0.58      0.71       298\n",
      "           5       0.89      0.47      0.61       733\n",
      "           6       0.82      0.84      0.83       927\n",
      "           7       0.83      0.53      0.65       820\n",
      "           8       0.91      0.35      0.50        84\n",
      "           9       0.79      0.64      0.71       884\n",
      "          10       0.84      0.75      0.79      1927\n",
      "          11       0.78      0.61      0.68      1231\n",
      "          12       0.82      0.86      0.84      1236\n",
      "          13       0.72      0.81      0.77      3801\n",
      "          14       0.87      0.60      0.71       392\n",
      "          15       0.82      0.70      0.76      1473\n",
      "          16       0.89      0.74      0.81       654\n",
      "          17       0.75      0.57      0.64       432\n",
      "          18       0.82      0.62      0.70       811\n",
      "          19       0.78      0.74      0.76      2524\n",
      "          20       0.77      0.88      0.82      4490\n",
      "          21       1.00      0.23      0.37        22\n",
      "          22       0.92      0.55      0.69       611\n",
      "          23       0.89      0.51      0.65       246\n",
      "          24       0.91      0.80      0.85       515\n",
      "          25       0.84      0.55      0.66       626\n",
      "          26       0.85      0.46      0.60       200\n",
      "          27       0.60      0.44      0.51       650\n",
      "          28       0.53      0.73      0.62      4273\n",
      "          29       0.88      0.86      0.87      2013\n",
      "          30       0.86      0.48      0.61       371\n",
      "          31       0.76      0.88      0.82      3509\n",
      "          32       0.88      0.68      0.77       319\n",
      "\n",
      "    accuracy                           0.75     40872\n",
      "   macro avg       0.83      0.64      0.70     40872\n",
      "weighted avg       0.77      0.75      0.75     40872\n",
      "\n"
     ]
    }
   ],
   "source": [
    "print(metrics.classification_report(Y_test, predictions)) #100 features"
   ]
  },
  {
   "cell_type": "code",
   "execution_count": 33,
   "metadata": {},
   "outputs": [
    {
     "name": "stdout",
     "output_type": "stream",
     "text": [
      "              precision    recall  f1-score   support\n",
      "\n",
      "           0       0.96      0.49      0.65       401\n",
      "           1       0.94      0.81      0.87       167\n",
      "           2       0.72      0.54      0.62       338\n",
      "           3       0.77      0.84      0.80      3815\n",
      "           4       0.91      0.61      0.73       328\n",
      "           5       0.87      0.50      0.63       689\n",
      "           6       0.80      0.87      0.83      1007\n",
      "           7       0.84      0.55      0.67       802\n",
      "           8       0.77      0.36      0.49        84\n",
      "           9       0.82      0.64      0.72       884\n",
      "          10       0.84      0.78      0.81      1888\n",
      "          11       0.79      0.60      0.68      1156\n",
      "          12       0.79      0.86      0.82      1257\n",
      "          13       0.73      0.81      0.77      3790\n",
      "          14       0.81      0.60      0.69       401\n",
      "          15       0.83      0.70      0.76      1474\n",
      "          16       0.89      0.77      0.82       658\n",
      "          17       0.75      0.57      0.65       433\n",
      "          18       0.83      0.65      0.73       827\n",
      "          19       0.77      0.75      0.76      2489\n",
      "          20       0.78      0.88      0.83      4442\n",
      "          21       1.00      0.38      0.56        26\n",
      "          22       0.87      0.54      0.67       576\n",
      "          23       0.91      0.52      0.66       248\n",
      "          24       0.88      0.81      0.84       494\n",
      "          25       0.84      0.49      0.62       674\n",
      "          26       0.90      0.41      0.56       223\n",
      "          27       0.64      0.41      0.50       679\n",
      "          28       0.54      0.73      0.62      4316\n",
      "          29       0.87      0.84      0.85      2035\n",
      "          30       0.90      0.52      0.66       385\n",
      "          31       0.75      0.90      0.82      3576\n",
      "          32       0.83      0.68      0.75       310\n",
      "\n",
      "    accuracy                           0.75     40872\n",
      "   macro avg       0.82      0.65      0.71     40872\n",
      "weighted avg       0.77      0.75      0.75     40872\n",
      "\n"
     ]
    }
   ],
   "source": [
    "print(metrics.classification_report(Y_test, predictions)) #100 features"
   ]
  },
  {
   "cell_type": "code",
   "execution_count": 28,
   "metadata": {},
   "outputs": [
    {
     "name": "stdout",
     "output_type": "stream",
     "text": [
      "              precision    recall  f1-score   support\n",
      "\n",
      "           0       0.96      0.48      0.64       401\n",
      "           1       0.93      0.81      0.87       167\n",
      "           2       0.72      0.53      0.61       338\n",
      "           3       0.75      0.83      0.79      3815\n",
      "           4       0.91      0.62      0.74       328\n",
      "           5       0.84      0.50      0.63       689\n",
      "           6       0.79      0.86      0.82      1007\n",
      "           7       0.82      0.55      0.66       802\n",
      "           8       0.77      0.36      0.49        84\n",
      "           9       0.80      0.64      0.71       884\n",
      "          10       0.83      0.77      0.80      1888\n",
      "          11       0.77      0.61      0.68      1156\n",
      "          12       0.78      0.86      0.82      1257\n",
      "          13       0.73      0.80      0.76      3790\n",
      "          14       0.78      0.59      0.67       401\n",
      "          15       0.84      0.69      0.75      1474\n",
      "          16       0.88      0.77      0.82       658\n",
      "          17       0.73      0.54      0.62       433\n",
      "          18       0.81      0.66      0.73       827\n",
      "          19       0.77      0.73      0.75      2489\n",
      "          20       0.77      0.88      0.82      4442\n",
      "          21       1.00      0.38      0.56        26\n",
      "          22       0.86      0.52      0.65       576\n",
      "          23       0.90      0.50      0.65       248\n",
      "          24       0.86      0.79      0.82       494\n",
      "          25       0.81      0.47      0.60       674\n",
      "          26       0.90      0.39      0.55       223\n",
      "          27       0.64      0.41      0.50       679\n",
      "          28       0.54      0.72      0.62      4316\n",
      "          29       0.87      0.84      0.85      2035\n",
      "          30       0.88      0.51      0.65       385\n",
      "          31       0.76      0.90      0.82      3576\n",
      "          32       0.83      0.65      0.73       310\n",
      "\n",
      "    accuracy                           0.75     40872\n",
      "   macro avg       0.81      0.64      0.70     40872\n",
      "weighted avg       0.76      0.75      0.75     40872\n",
      "\n"
     ]
    }
   ],
   "source": [
    "print(metrics.classification_report(Y_test, predictions)) #50 features"
   ]
  },
  {
   "cell_type": "code",
   "execution_count": 24,
   "metadata": {},
   "outputs": [
    {
     "name": "stdout",
     "output_type": "stream",
     "text": [
      "              precision    recall  f1-score   support\n",
      "\n",
      "           0       0.92      0.48      0.64       401\n",
      "           1       0.94      0.81      0.87       167\n",
      "           2       0.68      0.53      0.59       338\n",
      "           3       0.74      0.83      0.78      3815\n",
      "           4       0.85      0.63      0.72       328\n",
      "           5       0.78      0.51      0.61       689\n",
      "           6       0.78      0.85      0.81      1007\n",
      "           7       0.77      0.55      0.64       802\n",
      "           8       0.79      0.32      0.46        84\n",
      "           9       0.76      0.63      0.69       884\n",
      "          10       0.81      0.77      0.79      1888\n",
      "          11       0.73      0.61      0.67      1156\n",
      "          12       0.76      0.84      0.80      1257\n",
      "          13       0.71      0.79      0.75      3790\n",
      "          14       0.79      0.60      0.68       401\n",
      "          15       0.78      0.69      0.73      1474\n",
      "          16       0.87      0.75      0.80       658\n",
      "          17       0.70      0.51      0.59       433\n",
      "          18       0.79      0.66      0.72       827\n",
      "          19       0.74      0.71      0.73      2489\n",
      "          20       0.76      0.87      0.81      4442\n",
      "          21       1.00      0.35      0.51        26\n",
      "          22       0.85      0.53      0.65       576\n",
      "          23       0.91      0.50      0.65       248\n",
      "          24       0.89      0.78      0.83       494\n",
      "          25       0.77      0.46      0.58       674\n",
      "          26       0.88      0.41      0.56       223\n",
      "          27       0.60      0.41      0.48       679\n",
      "          28       0.55      0.69      0.61      4316\n",
      "          29       0.86      0.82      0.84      2035\n",
      "          30       0.85      0.49      0.62       385\n",
      "          31       0.76      0.88      0.81      3576\n",
      "          32       0.82      0.63      0.71       310\n",
      "\n",
      "    accuracy                           0.74     40872\n",
      "   macro avg       0.79      0.63      0.69     40872\n",
      "weighted avg       0.75      0.74      0.73     40872\n",
      "\n"
     ]
    }
   ],
   "source": [
    "print(metrics.classification_report(Y_test, predictions)) #20 features"
   ]
  },
  {
   "cell_type": "code",
   "execution_count": 15,
   "metadata": {},
   "outputs": [
    {
     "name": "stdout",
     "output_type": "stream",
     "text": [
      "              precision    recall  f1-score   support\n",
      "\n",
      "           0       0.74      0.50      0.60       401\n",
      "           1       0.92      0.81      0.86       167\n",
      "           2       0.57      0.50      0.54       338\n",
      "           3       0.69      0.83      0.75      3815\n",
      "           4       0.81      0.63      0.71       328\n",
      "           5       0.68      0.51      0.58       689\n",
      "           6       0.74      0.84      0.79      1007\n",
      "           7       0.70      0.54      0.61       802\n",
      "           8       0.74      0.35      0.47        84\n",
      "           9       0.71      0.64      0.67       884\n",
      "          10       0.76      0.78      0.77      1888\n",
      "          11       0.66      0.61      0.63      1156\n",
      "          12       0.74      0.82      0.78      1257\n",
      "          13       0.70      0.77      0.74      3790\n",
      "          14       0.76      0.57      0.65       401\n",
      "          15       0.77      0.68      0.72      1474\n",
      "          16       0.88      0.74      0.80       658\n",
      "          17       0.69      0.52      0.59       433\n",
      "          18       0.72      0.63      0.67       827\n",
      "          19       0.73      0.70      0.71      2489\n",
      "          20       0.76      0.86      0.80      4442\n",
      "          21       1.00      0.38      0.56        26\n",
      "          22       0.80      0.49      0.60       576\n",
      "          23       0.87      0.50      0.63       248\n",
      "          24       0.86      0.73      0.79       494\n",
      "          25       0.74      0.45      0.56       674\n",
      "          26       0.82      0.39      0.52       223\n",
      "          27       0.58      0.39      0.47       679\n",
      "          28       0.57      0.65      0.61      4316\n",
      "          29       0.86      0.81      0.83      2035\n",
      "          30       0.83      0.49      0.62       385\n",
      "          31       0.78      0.84      0.81      3576\n",
      "          32       0.86      0.57      0.68       310\n",
      "\n",
      "    accuracy                           0.72     40872\n",
      "   macro avg       0.76      0.62      0.67     40872\n",
      "weighted avg       0.73      0.72      0.72     40872\n",
      "\n"
     ]
    }
   ],
   "source": [
    "print(metrics.classification_report(Y_test, predictions)) #10 est"
   ]
  },
  {
   "cell_type": "code",
   "execution_count": null,
   "metadata": {},
   "outputs": [],
   "source": []
  },
  {
   "cell_type": "code",
   "execution_count": 13,
   "metadata": {},
   "outputs": [],
   "source": [
    "forest_100_est=forest"
   ]
  },
  {
   "cell_type": "code",
   "execution_count": 4,
   "metadata": {},
   "outputs": [],
   "source": [
    "import joblib\n",
    "#joblib.dump(forest_100_est,\"final_tfidf_model.joblib\")"
   ]
  },
  {
   "cell_type": "code",
   "execution_count": 5,
   "metadata": {},
   "outputs": [],
   "source": [
    "a=joblib.load(\"final_tfidf_model.joblib\")"
   ]
  },
  {
   "cell_type": "code",
   "execution_count": 6,
   "metadata": {},
   "outputs": [
    {
     "data": {
      "text/plain": [
       "RandomForestClassifier(bootstrap=True, class_weight=None, criterion='gini',\n",
       "                       max_depth=None, max_features='auto', max_leaf_nodes=None,\n",
       "                       min_impurity_decrease=0.0, min_impurity_split=None,\n",
       "                       min_samples_leaf=1, min_samples_split=2,\n",
       "                       min_weight_fraction_leaf=0.0, n_estimators=100, n_jobs=5,\n",
       "                       oob_score=False, random_state=None, verbose=0,\n",
       "                       warm_start=False)"
      ]
     },
     "execution_count": 6,
     "metadata": {},
     "output_type": "execute_result"
    }
   ],
   "source": [
    "a"
   ]
  },
  {
   "cell_type": "code",
   "execution_count": 7,
   "metadata": {},
   "outputs": [],
   "source": [
    "import pickle"
   ]
  },
  {
   "cell_type": "code",
   "execution_count": 8,
   "metadata": {},
   "outputs": [],
   "source": [
    "with open('model.pickle', 'wb') as handle:\n",
    "    pickle.dump(a, handle)"
   ]
  },
  {
   "cell_type": "code",
   "execution_count": null,
   "metadata": {},
   "outputs": [],
   "source": []
  }
 ],
 "metadata": {
  "kernelspec": {
   "display_name": "Python 3",
   "language": "python",
   "name": "python3"
  },
  "language_info": {
   "codemirror_mode": {
    "name": "ipython",
    "version": 3
   },
   "file_extension": ".py",
   "mimetype": "text/x-python",
   "name": "python",
   "nbconvert_exporter": "python",
   "pygments_lexer": "ipython3",
   "version": "3.6.8"
  }
 },
 "nbformat": 4,
 "nbformat_minor": 2
}
