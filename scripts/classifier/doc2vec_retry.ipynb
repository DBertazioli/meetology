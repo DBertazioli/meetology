{
 "cells": [
  {
   "cell_type": "code",
   "execution_count": 1,
   "metadata": {},
   "outputs": [],
   "source": [
    "import sys\n",
    "import numpy as np\n",
    "import pandas as pd\n",
    "\n",
    "import warnings\n",
    "warnings.filterwarnings('ignore')\n",
    "#warnings.filterwarnings(action='once')\n",
    "#!pip install tqdm #--user\n",
    "from tqdm import tqdm\n",
    "tqdm.pandas(desc=\"progress-bar\")\n",
    "#!pip install gensim #--user\n",
    "from gensim.models import Doc2Vec\n",
    "from sklearn import utils\n",
    "from sklearn.model_selection import train_test_split\n",
    "import gensim\n",
    "from sklearn.linear_model import LogisticRegression\n",
    "from gensim.models.doc2vec import TaggedDocument\n",
    "import re\n",
    "import seaborn as sns\n",
    "import matplotlib.pyplot as plt"
   ]
  },
  {
   "cell_type": "markdown",
   "metadata": {},
   "source": [
    "## Proper Doc2vec model"
   ]
  },
  {
   "cell_type": "code",
   "execution_count": 2,
   "metadata": {},
   "outputs": [],
   "source": [
    "supp_df=pd.read_csv(\"meetup.csv\")"
   ]
  },
  {
   "cell_type": "code",
   "execution_count": 3,
   "metadata": {},
   "outputs": [],
   "source": [
    "supp_df=supp_df[supp_df[\"category\"].isna()!=True]"
   ]
  },
  {
   "cell_type": "code",
   "execution_count": 4,
   "metadata": {},
   "outputs": [
    {
     "data": {
      "text/plain": [
       "['LGBT',\n",
       " 'alternative lifestyle',\n",
       " 'book clubs',\n",
       " 'career business',\n",
       " 'cars motorcycles',\n",
       " 'community environment',\n",
       " 'dancing',\n",
       " 'education learning',\n",
       " 'fashion beauty',\n",
       " 'fine arts culture',\n",
       " 'fitness',\n",
       " 'food drink',\n",
       " 'games',\n",
       " 'health wellbeing',\n",
       " 'hobbies crafts',\n",
       " 'language ethnic identity',\n",
       " 'movements politics',\n",
       " 'movies film',\n",
       " 'music',\n",
       " 'new age spirituality',\n",
       " 'outdoors adventure',\n",
       " 'paranormal',\n",
       " 'parents family',\n",
       " 'pets animals',\n",
       " 'photography',\n",
       " 'religion beliefs',\n",
       " 'sci-fi fantasy',\n",
       " 'singles',\n",
       " 'socializing',\n",
       " 'sports recreation',\n",
       " 'support',\n",
       " 'tech',\n",
       " 'writing']"
      ]
     },
     "execution_count": 4,
     "metadata": {},
     "output_type": "execute_result"
    }
   ],
   "source": [
    "cat_list=list(supp_df.category.unique())\n",
    "cat_list=[str(elem) for elem in cat_list]\n",
    "cat_list.sort()\n",
    "cat_list=[elem.replace(\"/\", \" \") for elem in cat_list]\n",
    "\"\"\"\n",
    "cat_list_old= cat_list[:]\n",
    "cat_list=[]\n",
    "for elem in cat_list_old:\n",
    "    if \" \" in elem:\n",
    "        els=elem.split(\" \")\n",
    "        cat_list.append(els)\n",
    "    else:\n",
    "        cat_list.append(elem)\n",
    "\"\"\"\n",
    "cat_list"
   ]
  },
  {
   "cell_type": "code",
   "execution_count": 2,
   "metadata": {},
   "outputs": [
    {
     "data": {
      "text/html": [
       "<div>\n",
       "<style scoped>\n",
       "    .dataframe tbody tr th:only-of-type {\n",
       "        vertical-align: middle;\n",
       "    }\n",
       "\n",
       "    .dataframe tbody tr th {\n",
       "        vertical-align: top;\n",
       "    }\n",
       "\n",
       "    .dataframe thead th {\n",
       "        text-align: right;\n",
       "    }\n",
       "</style>\n",
       "<table border=\"1\" class=\"dataframe\">\n",
       "  <thead>\n",
       "    <tr style=\"text-align: right;\">\n",
       "      <th></th>\n",
       "      <th>Unnamed: 0</th>\n",
       "      <th>description</th>\n",
       "      <th>category_bin</th>\n",
       "      <th>lang_ok</th>\n",
       "      <th>processed_description</th>\n",
       "    </tr>\n",
       "  </thead>\n",
       "  <tbody>\n",
       "    <tr>\n",
       "      <th>0</th>\n",
       "      <td>0</td>\n",
       "      <td>&lt;p&gt;FOOD AND FELLOWSHIP | 5 PM&lt;/p&gt; \\n&lt;p&gt;CONCERT...</td>\n",
       "      <td>27</td>\n",
       "      <td>english</td>\n",
       "      <td>food fellowship concert may us morn star churc...</td>\n",
       "    </tr>\n",
       "    <tr>\n",
       "      <th>1</th>\n",
       "      <td>1</td>\n",
       "      <td>&lt;p&gt;&lt;b&gt;【WhyNot!?JAPAN + MeetUp Collaboration Ev...</td>\n",
       "      <td>28</td>\n",
       "      <td>english</td>\n",
       "      <td>whynot japan collabor peopl come whynot japan ...</td>\n",
       "    </tr>\n",
       "    <tr>\n",
       "      <th>2</th>\n",
       "      <td>2</td>\n",
       "      <td>&lt;p&gt;TENTATIVE&lt;br&gt;&lt;/p&gt;\\n&lt;p&gt;&lt;br&gt;&lt;/p&gt;\\n&lt;p&gt;10.30 - ...</td>\n",
       "      <td>31</td>\n",
       "      <td>english</td>\n",
       "      <td>tent introduct orient session break network au...</td>\n",
       "    </tr>\n",
       "    <tr>\n",
       "      <th>3</th>\n",
       "      <td>3</td>\n",
       "      <td>&lt;p&gt;&lt;span&gt;Hey explorersssss, what's up?&lt;/span&gt;&lt;...</td>\n",
       "      <td>15</td>\n",
       "      <td>english</td>\n",
       "      <td>hey explorersssss say night view hong kong vic...</td>\n",
       "    </tr>\n",
       "    <tr>\n",
       "      <th>4</th>\n",
       "      <td>4</td>\n",
       "      <td>&lt;p&gt;Free, unauditioned, collaborative pop choir...</td>\n",
       "      <td>18</td>\n",
       "      <td>english</td>\n",
       "      <td>unaudit collabor pop choir identifi women see ...</td>\n",
       "    </tr>\n",
       "    <tr>\n",
       "      <th>5</th>\n",
       "      <td>6</td>\n",
       "      <td>&lt;p&gt;We provide a forum to learn about, promote ...</td>\n",
       "      <td>3</td>\n",
       "      <td>english</td>\n",
       "      <td>provid forum learn promot grow busi</td>\n",
       "    </tr>\n",
       "    <tr>\n",
       "      <th>6</th>\n",
       "      <td>7</td>\n",
       "      <td>&lt;p&gt;&lt;b&gt;【WhyNot!?JAPAN + MeetUp Collaboration Ev...</td>\n",
       "      <td>28</td>\n",
       "      <td>english</td>\n",
       "      <td>whynot japan collabor peopl come whynot japan ...</td>\n",
       "    </tr>\n",
       "    <tr>\n",
       "      <th>7</th>\n",
       "      <td>8</td>\n",
       "      <td>&lt;p&gt;This is an introductory meeting to get to k...</td>\n",
       "      <td>31</td>\n",
       "      <td>english</td>\n",
       "      <td>introductori meet get know fellow coder share ...</td>\n",
       "    </tr>\n",
       "    <tr>\n",
       "      <th>8</th>\n",
       "      <td>9</td>\n",
       "      <td>&lt;p&gt;The Future of the IoT with Rajeev Suri, CEO...</td>\n",
       "      <td>31</td>\n",
       "      <td>english</td>\n",
       "      <td>futur iot rajeev suri ceo kathrin buvac chief ...</td>\n",
       "    </tr>\n",
       "    <tr>\n",
       "      <th>9</th>\n",
       "      <td>10</td>\n",
       "      <td>&lt;p&gt;&lt;img src=\"https://secure.meetupstatic.com/p...</td>\n",
       "      <td>13</td>\n",
       "      <td>english</td>\n",
       "      <td>breakthrough weight loss wk workshop lose weig...</td>\n",
       "    </tr>\n",
       "    <tr>\n",
       "      <th>10</th>\n",
       "      <td>11</td>\n",
       "      <td>&lt;p&gt;ATENCIÓN APLAZADO AL DOMINGO 14.&lt;/p&gt;\\n&lt;p&gt;&lt;s...</td>\n",
       "      <td>19</td>\n",
       "      <td>spanish</td>\n",
       "      <td>queri length limit excede max allow queri char</td>\n",
       "    </tr>\n",
       "    <tr>\n",
       "      <th>11</th>\n",
       "      <td>12</td>\n",
       "      <td>&lt;p&gt;1920's Egypt, the kindred scheme and rule t...</td>\n",
       "      <td>12</td>\n",
       "      <td>english</td>\n",
       "      <td>egypt kindr scheme rule night shadow dark corn...</td>\n",
       "    </tr>\n",
       "    <tr>\n",
       "      <th>12</th>\n",
       "      <td>13</td>\n",
       "      <td>&lt;p&gt;Let's have a pot luck! Bring something, or ...</td>\n",
       "      <td>22</td>\n",
       "      <td>english</td>\n",
       "      <td>let pot luck bring someth pressur meet park fe...</td>\n",
       "    </tr>\n",
       "    <tr>\n",
       "      <th>13</th>\n",
       "      <td>14</td>\n",
       "      <td>&lt;p&gt;&lt;img src=\"https://secure.meetupstatic.com/p...</td>\n",
       "      <td>11</td>\n",
       "      <td>english</td>\n",
       "      <td>spring final natur get best dreari winter mont...</td>\n",
       "    </tr>\n",
       "    <tr>\n",
       "      <th>14</th>\n",
       "      <td>15</td>\n",
       "      <td>&lt;p&gt;Este trabajo estará enfocado en una nueva f...</td>\n",
       "      <td>19</td>\n",
       "      <td>spanish</td>\n",
       "      <td>queri length limit excede max allow queri char...</td>\n",
       "    </tr>\n",
       "    <tr>\n",
       "      <th>15</th>\n",
       "      <td>16</td>\n",
       "      <td>&lt;p&gt;&lt;i&gt;(&lt;/i&gt;&lt;i&gt;RSVPs on Meetup are not taken in...</td>\n",
       "      <td>3</td>\n",
       "      <td>english</td>\n",
       "      <td>taken consider save spot instead busi brainsto...</td>\n",
       "    </tr>\n",
       "    <tr>\n",
       "      <th>16</th>\n",
       "      <td>17</td>\n",
       "      <td>&lt;p&gt;&lt;b&gt;Synopsis&lt;/b&gt;&lt;/p&gt; \\n&lt;p&gt;Set to the backdro...</td>\n",
       "      <td>17</td>\n",
       "      <td>english</td>\n",
       "      <td>synopsi set backdrop awesom mixtap marvel guar...</td>\n",
       "    </tr>\n",
       "    <tr>\n",
       "      <th>17</th>\n",
       "      <td>18</td>\n",
       "      <td>&lt;p&gt;&lt;br&gt;&lt;/p&gt;\\n&lt;p&gt;&lt;img src=\"http://photos2.meetu...</td>\n",
       "      <td>20</td>\n",
       "      <td>english</td>\n",
       "      <td>one place find way everyon bucket list holi ci...</td>\n",
       "    </tr>\n",
       "    <tr>\n",
       "      <th>18</th>\n",
       "      <td>19</td>\n",
       "      <td>&lt;p&gt;&lt;br&gt;&lt;/p&gt;\\n&lt;p&gt;&lt;b&gt; HikingLovers--When West Me...</td>\n",
       "      <td>20</td>\n",
       "      <td>english</td>\n",
       "      <td>hikinglov west meet east keep calm hike keep c...</td>\n",
       "    </tr>\n",
       "    <tr>\n",
       "      <th>19</th>\n",
       "      <td>20</td>\n",
       "      <td>&lt;p&gt;Our first podcast meeting turned out to be ...</td>\n",
       "      <td>31</td>\n",
       "      <td>english</td>\n",
       "      <td>first podcast meet turn inform fun keep ball r...</td>\n",
       "    </tr>\n",
       "    <tr>\n",
       "      <th>20</th>\n",
       "      <td>21</td>\n",
       "      <td>&lt;p&gt;Please rsvp and call me for anything on 957...</td>\n",
       "      <td>20</td>\n",
       "      <td>english</td>\n",
       "      <td>call anyth detail plan soon price food</td>\n",
       "    </tr>\n",
       "    <tr>\n",
       "      <th>21</th>\n",
       "      <td>22</td>\n",
       "      <td>&lt;p&gt;&lt;img src=\"https://secure.meetupstatic.com/p...</td>\n",
       "      <td>13</td>\n",
       "      <td>english</td>\n",
       "      <td>breakthrough confid wk workshop confid dream b...</td>\n",
       "    </tr>\n",
       "    <tr>\n",
       "      <th>22</th>\n",
       "      <td>23</td>\n",
       "      <td>&lt;p&gt;&lt;b&gt;STRUCTURED - Speed Date STYLE - English/...</td>\n",
       "      <td>15</td>\n",
       "      <td>english</td>\n",
       "      <td>structur speed date style english italian lang...</td>\n",
       "    </tr>\n",
       "    <tr>\n",
       "      <th>23</th>\n",
       "      <td>24</td>\n",
       "      <td>&lt;p&gt;&lt;img src=\"https://secure.meetupstatic.com/p...</td>\n",
       "      <td>19</td>\n",
       "      <td>english</td>\n",
       "      <td>breakthrough confid wk workshop confid dream b...</td>\n",
       "    </tr>\n",
       "    <tr>\n",
       "      <th>24</th>\n",
       "      <td>25</td>\n",
       "      <td>&lt;p&gt;&lt;img src=\"https://secure.meetupstatic.com/p...</td>\n",
       "      <td>13</td>\n",
       "      <td>english</td>\n",
       "      <td>breakthrough confid wk workshop confid dream b...</td>\n",
       "    </tr>\n",
       "    <tr>\n",
       "      <th>25</th>\n",
       "      <td>26</td>\n",
       "      <td>&lt;p&gt;Aloha ✴ Mark Your Calendar for Saturday, Ju...</td>\n",
       "      <td>25</td>\n",
       "      <td>english</td>\n",
       "      <td>aloha mark calendar saturday juli miss big lua...</td>\n",
       "    </tr>\n",
       "    <tr>\n",
       "      <th>26</th>\n",
       "      <td>27</td>\n",
       "      <td>&lt;p&gt;&lt;a href=\"https://www.meetup.com/codecentric...</td>\n",
       "      <td>31</td>\n",
       "      <td>german</td>\n",
       "      <td>queri length limit excede max allow queri char...</td>\n",
       "    </tr>\n",
       "    <tr>\n",
       "      <th>27</th>\n",
       "      <td>28</td>\n",
       "      <td>&lt;p&gt;Limited to 6 Boss Babes!&amp;nbsp;&lt;/p&gt;\\n&lt;p&gt;***P...</td>\n",
       "      <td>3</td>\n",
       "      <td>english</td>\n",
       "      <td>limit boss babe messag phone number confirm me...</td>\n",
       "    </tr>\n",
       "    <tr>\n",
       "      <th>28</th>\n",
       "      <td>29</td>\n",
       "      <td>&lt;p&gt;Nefes koçu Neslihan Canıoğlu ile nefes egze...</td>\n",
       "      <td>3</td>\n",
       "      <td>turkish</td>\n",
       "      <td>queri length limit excede max allow queri char...</td>\n",
       "    </tr>\n",
       "    <tr>\n",
       "      <th>29</th>\n",
       "      <td>30</td>\n",
       "      <td>&lt;p&gt;Starting off at the hidden away, but awesom...</td>\n",
       "      <td>28</td>\n",
       "      <td>english</td>\n",
       "      <td>start hidden away awesom bosc bar may move dep...</td>\n",
       "    </tr>\n",
       "    <tr>\n",
       "      <th>30</th>\n",
       "      <td>31</td>\n",
       "      <td>&lt;p&gt;&lt;img src=\"https://secure.meetupstatic.com/p...</td>\n",
       "      <td>25</td>\n",
       "      <td>english</td>\n",
       "      <td>bike sure messag ride start get locat</td>\n",
       "    </tr>\n",
       "    <tr>\n",
       "      <th>31</th>\n",
       "      <td>32</td>\n",
       "      <td>&lt;p&gt;&lt;img src=\"https://secure.meetupstatic.com/p...</td>\n",
       "      <td>25</td>\n",
       "      <td>english</td>\n",
       "      <td>bike sure messag ride start get locat</td>\n",
       "    </tr>\n",
       "    <tr>\n",
       "      <th>32</th>\n",
       "      <td>33</td>\n",
       "      <td>&lt;p&gt;&lt;img src=\"https://secure.meetupstatic.com/p...</td>\n",
       "      <td>25</td>\n",
       "      <td>english</td>\n",
       "      <td>bike sure messag ride start get locat</td>\n",
       "    </tr>\n",
       "    <tr>\n",
       "      <th>33</th>\n",
       "      <td>34</td>\n",
       "      <td>&lt;p&gt;Смотрим Google I/O вместе! &amp;nbsp;&lt;/p&gt;\\n&lt;p&gt;С...</td>\n",
       "      <td>31</td>\n",
       "      <td>russian</td>\n",
       "      <td>queri length limit excede max allow queri char</td>\n",
       "    </tr>\n",
       "    <tr>\n",
       "      <th>34</th>\n",
       "      <td>35</td>\n",
       "      <td>&lt;p&gt;&lt;b&gt;Careem + Hackathon = HaCareem&lt;/b&gt;&lt;/p&gt;\\n&lt;...</td>\n",
       "      <td>31</td>\n",
       "      <td>english</td>\n",
       "      <td>careem hackathon hacareem challeng brightest t...</td>\n",
       "    </tr>\n",
       "    <tr>\n",
       "      <th>35</th>\n",
       "      <td>36</td>\n",
       "      <td>&lt;p&gt;After 4 beautiful editions of The Futures O...</td>\n",
       "      <td>31</td>\n",
       "      <td>english</td>\n",
       "      <td>beauti edit futur data offic take next level g...</td>\n",
       "    </tr>\n",
       "    <tr>\n",
       "      <th>36</th>\n",
       "      <td>37</td>\n",
       "      <td>&lt;p&gt;Learn about Herbaria – library-like collect...</td>\n",
       "      <td>7</td>\n",
       "      <td>english</td>\n",
       "      <td>learn herbaria librari collect press dri plant...</td>\n",
       "    </tr>\n",
       "    <tr>\n",
       "      <th>37</th>\n",
       "      <td>39</td>\n",
       "      <td>&lt;p&gt;A rhythm and singing journey, a little like...</td>\n",
       "      <td>18</td>\n",
       "      <td>english</td>\n",
       "      <td>rhythm sing journey littl circlesing much stru...</td>\n",
       "    </tr>\n",
       "    <tr>\n",
       "      <th>38</th>\n",
       "      <td>40</td>\n",
       "      <td>&lt;p&gt;&lt;b&gt;Careem + Hackathon = HaCareem&lt;/b&gt;&lt;/p&gt;\\n&lt;...</td>\n",
       "      <td>31</td>\n",
       "      <td>english</td>\n",
       "      <td>careem hackathon hacareem challeng brightest t...</td>\n",
       "    </tr>\n",
       "    <tr>\n",
       "      <th>39</th>\n",
       "      <td>42</td>\n",
       "      <td>&lt;p&gt;L’école de langues Languages.lu et l'Ambass...</td>\n",
       "      <td>3</td>\n",
       "      <td>french</td>\n",
       "      <td>queri length limit excede max allow queri char</td>\n",
       "    </tr>\n",
       "    <tr>\n",
       "      <th>40</th>\n",
       "      <td>43</td>\n",
       "      <td>&lt;p&gt;Hello foodies,&lt;/p&gt; &lt;p&gt;Let’s try a bit walk ...</td>\n",
       "      <td>11</td>\n",
       "      <td>english</td>\n",
       "      <td>hello foodi let tri bit walk late sunday lunch...</td>\n",
       "    </tr>\n",
       "    <tr>\n",
       "      <th>41</th>\n",
       "      <td>44</td>\n",
       "      <td>&lt;p&gt;&lt;i&gt;ATELIER POUR LES NOUVEAUX&lt;/i&gt;&lt;br&gt;&lt;/p&gt;\\n&lt;...</td>\n",
       "      <td>13</td>\n",
       "      <td>french</td>\n",
       "      <td>queri length limit excede max allow queri char</td>\n",
       "    </tr>\n",
       "    <tr>\n",
       "      <th>42</th>\n",
       "      <td>45</td>\n",
       "      <td>&lt;p&gt;This event is hosted by Codecentric, please...</td>\n",
       "      <td>31</td>\n",
       "      <td>german</td>\n",
       "      <td>queri length limit excede max allow queri char...</td>\n",
       "    </tr>\n",
       "    <tr>\n",
       "      <th>43</th>\n",
       "      <td>46</td>\n",
       "      <td>&lt;p&gt;&lt;b&gt;Careem + Hackathon = HaCareem&lt;/b&gt;&lt;/p&gt;\\n&lt;...</td>\n",
       "      <td>31</td>\n",
       "      <td>english</td>\n",
       "      <td>careem hackathon hacareem challeng brightest t...</td>\n",
       "    </tr>\n",
       "    <tr>\n",
       "      <th>44</th>\n",
       "      <td>47</td>\n",
       "      <td>&lt;p&gt;Aloha ✴ Mark Your Calendar for Saturday, Ju...</td>\n",
       "      <td>27</td>\n",
       "      <td>english</td>\n",
       "      <td>aloha mark calendar saturday juli miss big lua...</td>\n",
       "    </tr>\n",
       "    <tr>\n",
       "      <th>45</th>\n",
       "      <td>48</td>\n",
       "      <td>&lt;p&gt;Looking forward to seeing you Thursday nigh...</td>\n",
       "      <td>25</td>\n",
       "      <td>english</td>\n",
       "      <td>look forward see thursday night outsid gangnam...</td>\n",
       "    </tr>\n",
       "    <tr>\n",
       "      <th>46</th>\n",
       "      <td>49</td>\n",
       "      <td>&lt;p&gt;Looking forward to seeing you Thursday nigh...</td>\n",
       "      <td>25</td>\n",
       "      <td>english</td>\n",
       "      <td>look forward see thursday night outsid gangnam...</td>\n",
       "    </tr>\n",
       "    <tr>\n",
       "      <th>47</th>\n",
       "      <td>50</td>\n",
       "      <td>&lt;p&gt;PLEASE REGISTER &amp;amp; GET YOUR TICKETS ON &lt;...</td>\n",
       "      <td>3</td>\n",
       "      <td>english</td>\n",
       "      <td>get move financi year good identifi minut deta...</td>\n",
       "    </tr>\n",
       "    <tr>\n",
       "      <th>48</th>\n",
       "      <td>51</td>\n",
       "      <td>&lt;p&gt;PLEASE REGISTER &amp;amp; GET YOUR TICKETS ON &lt;...</td>\n",
       "      <td>3</td>\n",
       "      <td>english</td>\n",
       "      <td>get move financi year good identifi minut deta...</td>\n",
       "    </tr>\n",
       "    <tr>\n",
       "      <th>49</th>\n",
       "      <td>52</td>\n",
       "      <td>&lt;p&gt;PLEASE REGISTER &amp;amp; GET YOUR TICKETS ON &lt;...</td>\n",
       "      <td>3</td>\n",
       "      <td>english</td>\n",
       "      <td>get move financi year good identifi minut deta...</td>\n",
       "    </tr>\n",
       "  </tbody>\n",
       "</table>\n",
       "</div>"
      ],
      "text/plain": [
       "    Unnamed: 0                                        description  \\\n",
       "0            0  <p>FOOD AND FELLOWSHIP | 5 PM</p> \\n<p>CONCERT...   \n",
       "1            1  <p><b>【WhyNot!?JAPAN + MeetUp Collaboration Ev...   \n",
       "2            2  <p>TENTATIVE<br></p>\\n<p><br></p>\\n<p>10.30 - ...   \n",
       "3            3  <p><span>Hey explorersssss, what's up?</span><...   \n",
       "4            4  <p>Free, unauditioned, collaborative pop choir...   \n",
       "5            6  <p>We provide a forum to learn about, promote ...   \n",
       "6            7  <p><b>【WhyNot!?JAPAN + MeetUp Collaboration Ev...   \n",
       "7            8  <p>This is an introductory meeting to get to k...   \n",
       "8            9  <p>The Future of the IoT with Rajeev Suri, CEO...   \n",
       "9           10  <p><img src=\"https://secure.meetupstatic.com/p...   \n",
       "10          11  <p>ATENCIÓN APLAZADO AL DOMINGO 14.</p>\\n<p><s...   \n",
       "11          12  <p>1920's Egypt, the kindred scheme and rule t...   \n",
       "12          13  <p>Let's have a pot luck! Bring something, or ...   \n",
       "13          14  <p><img src=\"https://secure.meetupstatic.com/p...   \n",
       "14          15  <p>Este trabajo estará enfocado en una nueva f...   \n",
       "15          16  <p><i>(</i><i>RSVPs on Meetup are not taken in...   \n",
       "16          17  <p><b>Synopsis</b></p> \\n<p>Set to the backdro...   \n",
       "17          18  <p><br></p>\\n<p><img src=\"http://photos2.meetu...   \n",
       "18          19  <p><br></p>\\n<p><b> HikingLovers--When West Me...   \n",
       "19          20  <p>Our first podcast meeting turned out to be ...   \n",
       "20          21  <p>Please rsvp and call me for anything on 957...   \n",
       "21          22  <p><img src=\"https://secure.meetupstatic.com/p...   \n",
       "22          23  <p><b>STRUCTURED - Speed Date STYLE - English/...   \n",
       "23          24  <p><img src=\"https://secure.meetupstatic.com/p...   \n",
       "24          25  <p><img src=\"https://secure.meetupstatic.com/p...   \n",
       "25          26  <p>Aloha ✴ Mark Your Calendar for Saturday, Ju...   \n",
       "26          27  <p><a href=\"https://www.meetup.com/codecentric...   \n",
       "27          28  <p>Limited to 6 Boss Babes!&nbsp;</p>\\n<p>***P...   \n",
       "28          29  <p>Nefes koçu Neslihan Canıoğlu ile nefes egze...   \n",
       "29          30  <p>Starting off at the hidden away, but awesom...   \n",
       "30          31  <p><img src=\"https://secure.meetupstatic.com/p...   \n",
       "31          32  <p><img src=\"https://secure.meetupstatic.com/p...   \n",
       "32          33  <p><img src=\"https://secure.meetupstatic.com/p...   \n",
       "33          34  <p>Смотрим Google I/O вместе! &nbsp;</p>\\n<p>С...   \n",
       "34          35  <p><b>Careem + Hackathon = HaCareem</b></p>\\n<...   \n",
       "35          36  <p>After 4 beautiful editions of The Futures O...   \n",
       "36          37  <p>Learn about Herbaria – library-like collect...   \n",
       "37          39  <p>A rhythm and singing journey, a little like...   \n",
       "38          40  <p><b>Careem + Hackathon = HaCareem</b></p>\\n<...   \n",
       "39          42  <p>L’école de langues Languages.lu et l'Ambass...   \n",
       "40          43  <p>Hello foodies,</p> <p>Let’s try a bit walk ...   \n",
       "41          44  <p><i>ATELIER POUR LES NOUVEAUX</i><br></p>\\n<...   \n",
       "42          45  <p>This event is hosted by Codecentric, please...   \n",
       "43          46  <p><b>Careem + Hackathon = HaCareem</b></p>\\n<...   \n",
       "44          47  <p>Aloha ✴ Mark Your Calendar for Saturday, Ju...   \n",
       "45          48  <p>Looking forward to seeing you Thursday nigh...   \n",
       "46          49  <p>Looking forward to seeing you Thursday nigh...   \n",
       "47          50  <p>PLEASE REGISTER &amp; GET YOUR TICKETS ON <...   \n",
       "48          51  <p>PLEASE REGISTER &amp; GET YOUR TICKETS ON <...   \n",
       "49          52  <p>PLEASE REGISTER &amp; GET YOUR TICKETS ON <...   \n",
       "\n",
       "    category_bin  lang_ok                              processed_description  \n",
       "0             27  english  food fellowship concert may us morn star churc...  \n",
       "1             28  english  whynot japan collabor peopl come whynot japan ...  \n",
       "2             31  english  tent introduct orient session break network au...  \n",
       "3             15  english  hey explorersssss say night view hong kong vic...  \n",
       "4             18  english  unaudit collabor pop choir identifi women see ...  \n",
       "5              3  english                provid forum learn promot grow busi  \n",
       "6             28  english  whynot japan collabor peopl come whynot japan ...  \n",
       "7             31  english  introductori meet get know fellow coder share ...  \n",
       "8             31  english  futur iot rajeev suri ceo kathrin buvac chief ...  \n",
       "9             13  english  breakthrough weight loss wk workshop lose weig...  \n",
       "10            19  spanish     queri length limit excede max allow queri char  \n",
       "11            12  english  egypt kindr scheme rule night shadow dark corn...  \n",
       "12            22  english  let pot luck bring someth pressur meet park fe...  \n",
       "13            11  english  spring final natur get best dreari winter mont...  \n",
       "14            19  spanish  queri length limit excede max allow queri char...  \n",
       "15             3  english  taken consider save spot instead busi brainsto...  \n",
       "16            17  english  synopsi set backdrop awesom mixtap marvel guar...  \n",
       "17            20  english  one place find way everyon bucket list holi ci...  \n",
       "18            20  english  hikinglov west meet east keep calm hike keep c...  \n",
       "19            31  english  first podcast meet turn inform fun keep ball r...  \n",
       "20            20  english             call anyth detail plan soon price food  \n",
       "21            13  english  breakthrough confid wk workshop confid dream b...  \n",
       "22            15  english  structur speed date style english italian lang...  \n",
       "23            19  english  breakthrough confid wk workshop confid dream b...  \n",
       "24            13  english  breakthrough confid wk workshop confid dream b...  \n",
       "25            25  english  aloha mark calendar saturday juli miss big lua...  \n",
       "26            31   german  queri length limit excede max allow queri char...  \n",
       "27             3  english  limit boss babe messag phone number confirm me...  \n",
       "28             3  turkish  queri length limit excede max allow queri char...  \n",
       "29            28  english  start hidden away awesom bosc bar may move dep...  \n",
       "30            25  english              bike sure messag ride start get locat  \n",
       "31            25  english              bike sure messag ride start get locat  \n",
       "32            25  english              bike sure messag ride start get locat  \n",
       "33            31  russian     queri length limit excede max allow queri char  \n",
       "34            31  english  careem hackathon hacareem challeng brightest t...  \n",
       "35            31  english  beauti edit futur data offic take next level g...  \n",
       "36             7  english  learn herbaria librari collect press dri plant...  \n",
       "37            18  english  rhythm sing journey littl circlesing much stru...  \n",
       "38            31  english  careem hackathon hacareem challeng brightest t...  \n",
       "39             3   french     queri length limit excede max allow queri char  \n",
       "40            11  english  hello foodi let tri bit walk late sunday lunch...  \n",
       "41            13   french     queri length limit excede max allow queri char  \n",
       "42            31   german  queri length limit excede max allow queri char...  \n",
       "43            31  english  careem hackathon hacareem challeng brightest t...  \n",
       "44            27  english  aloha mark calendar saturday juli miss big lua...  \n",
       "45            25  english  look forward see thursday night outsid gangnam...  \n",
       "46            25  english  look forward see thursday night outsid gangnam...  \n",
       "47             3  english  get move financi year good identifi minut deta...  \n",
       "48             3  english  get move financi year good identifi minut deta...  \n",
       "49             3  english  get move financi year good identifi minut deta...  "
      ]
     },
     "execution_count": 2,
     "metadata": {},
     "output_type": "execute_result"
    }
   ],
   "source": [
    "df=pd.read_csv(\"processed_description_sine_error_Porter_no_bad_words.csv\")\n",
    "\n",
    "df.head(50)"
   ]
  },
  {
   "cell_type": "code",
   "execution_count": 8,
   "metadata": {
    "scrolled": false
   },
   "outputs": [
    {
     "data": {
      "text/html": [
       "<div>\n",
       "<style scoped>\n",
       "    .dataframe tbody tr th:only-of-type {\n",
       "        vertical-align: middle;\n",
       "    }\n",
       "\n",
       "    .dataframe tbody tr th {\n",
       "        vertical-align: top;\n",
       "    }\n",
       "\n",
       "    .dataframe thead th {\n",
       "        text-align: right;\n",
       "    }\n",
       "</style>\n",
       "<table border=\"1\" class=\"dataframe\">\n",
       "  <thead>\n",
       "    <tr style=\"text-align: right;\">\n",
       "      <th></th>\n",
       "      <th>Unnamed: 0</th>\n",
       "      <th>description</th>\n",
       "      <th>category_bin</th>\n",
       "      <th>lang_ok</th>\n",
       "      <th>processed_description</th>\n",
       "      <th>category</th>\n",
       "    </tr>\n",
       "  </thead>\n",
       "  <tbody>\n",
       "    <tr>\n",
       "      <th>0</th>\n",
       "      <td>0</td>\n",
       "      <td>&lt;p&gt;FOOD AND FELLOWSHIP | 5 PM&lt;/p&gt; \\n&lt;p&gt;CONCERT...</td>\n",
       "      <td>27</td>\n",
       "      <td>english</td>\n",
       "      <td>food fellowship concert may us morn star churc...</td>\n",
       "      <td>singles</td>\n",
       "    </tr>\n",
       "    <tr>\n",
       "      <th>1</th>\n",
       "      <td>1</td>\n",
       "      <td>&lt;p&gt;&lt;b&gt;【WhyNot!?JAPAN + MeetUp Collaboration Ev...</td>\n",
       "      <td>28</td>\n",
       "      <td>english</td>\n",
       "      <td>whynot japan collabor peopl come whynot japan ...</td>\n",
       "      <td>socializing</td>\n",
       "    </tr>\n",
       "  </tbody>\n",
       "</table>\n",
       "</div>"
      ],
      "text/plain": [
       "   Unnamed: 0                                        description  \\\n",
       "0           0  <p>FOOD AND FELLOWSHIP | 5 PM</p> \\n<p>CONCERT...   \n",
       "1           1  <p><b>【WhyNot!?JAPAN + MeetUp Collaboration Ev...   \n",
       "\n",
       "   category_bin  lang_ok                              processed_description  \\\n",
       "0            27  english  food fellowship concert may us morn star churc...   \n",
       "1            28  english  whynot japan collabor peopl come whynot japan ...   \n",
       "\n",
       "      category  \n",
       "0      singles  \n",
       "1  socializing  "
      ]
     },
     "execution_count": 8,
     "metadata": {},
     "output_type": "execute_result"
    }
   ],
   "source": [
    "df[\"category\"]=\"NaN\"\n",
    "\n",
    "df[\"category\"]= df.apply(lambda r: cat_list[r.category_bin], axis=1)\n",
    "del supp_df\n",
    "df.head(2)"
   ]
  },
  {
   "cell_type": "markdown",
   "metadata": {},
   "source": [
    "## Formatting as tagged doc\n"
   ]
  },
  {
   "cell_type": "code",
   "execution_count": 9,
   "metadata": {},
   "outputs": [],
   "source": [
    "process_all=True\n",
    "#process_all=True\n",
    "\n",
    "if process_all:\n",
    "    train, test = train_test_split(df, test_size=0.3, random_state=42)\n",
    "else:    \n",
    "    train, test = train_test_split(df[:50000], test_size=0.3, random_state=42)\n",
    "\n",
    "train_tagged = train.apply(\n",
    "    lambda r: TaggedDocument(words=str(r.processed_description).split(\" \"), tags=[r.category]), axis=1)\n",
    "test_tagged = test.apply(\n",
    "    lambda r: TaggedDocument(words=str(r.processed_description).split(\" \"), tags=[r.category]), axis=1)"
   ]
  },
  {
   "cell_type": "code",
   "execution_count": 10,
   "metadata": {},
   "outputs": [],
   "source": [
    "#train_tagged.values[30]"
   ]
  },
  {
   "cell_type": "markdown",
   "metadata": {},
   "source": [
    "## Training dbow model"
   ]
  },
  {
   "cell_type": "code",
   "execution_count": 11,
   "metadata": {},
   "outputs": [],
   "source": [
    "import multiprocessing\n",
    "\n",
    "#cores = multiprocessing.cpu_count()\n",
    "#cores\n",
    "cores=4\n",
    "\n",
    "model_dbow = Doc2Vec(dm=0, vector_size=300, negative=5, hs=0, min_count=2, sample = 0, workers=cores)"
   ]
  },
  {
   "cell_type": "code",
   "execution_count": 12,
   "metadata": {},
   "outputs": [
    {
     "name": "stderr",
     "output_type": "stream",
     "text": [
      "100%|██████████| 122106/122106 [00:00<00:00, 1985022.44it/s]\n"
     ]
    }
   ],
   "source": [
    "model_dbow.build_vocab([x for x in tqdm(train_tagged.values)])"
   ]
  },
  {
   "cell_type": "code",
   "execution_count": 13,
   "metadata": {},
   "outputs": [
    {
     "name": "stderr",
     "output_type": "stream",
     "text": [
      "100%|██████████| 122106/122106 [00:00<00:00, 3814696.32it/s]\n",
      "100%|██████████| 122106/122106 [00:00<00:00, 4100839.02it/s]\n",
      "100%|██████████| 122106/122106 [00:00<00:00, 2881421.86it/s]\n",
      "100%|██████████| 122106/122106 [00:00<00:00, 4026112.43it/s]\n",
      "100%|██████████| 122106/122106 [00:00<00:00, 4148842.26it/s]\n",
      "100%|██████████| 122106/122106 [00:00<00:00, 4050599.38it/s]\n",
      "100%|██████████| 122106/122106 [00:00<00:00, 3901230.85it/s]\n",
      "100%|██████████| 122106/122106 [00:00<00:00, 4152071.25it/s]\n",
      "100%|██████████| 122106/122106 [00:00<00:00, 4244885.53it/s]\n",
      "100%|██████████| 122106/122106 [00:00<00:00, 4307217.39it/s]\n"
     ]
    },
    {
     "name": "stdout",
     "output_type": "stream",
     "text": [
      "CPU times: user 5min 15s, sys: 4.2 s, total: 5min 19s\n",
      "Wall time: 1min 30s\n"
     ]
    }
   ],
   "source": [
    "%%time\n",
    "for epoch in range(10):\n",
    "    model_dbow.train(utils.shuffle([x for x in tqdm(train_tagged.values)]), total_examples=len(train_tagged.values), epochs=1)\n",
    "    model_dbow.alpha -= 0.002\n",
    "    model_dbow.min_alpha = model_dbow.alpha"
   ]
  },
  {
   "cell_type": "code",
   "execution_count": 14,
   "metadata": {},
   "outputs": [],
   "source": [
    "def vec_for_learning(model, tagged_docs):\n",
    "    #sents = tagged_docs.values\n",
    "    targets, regressors = zip(*[(doc.tags[0], model.infer_vector(doc.words, steps=20)) for doc in tqdm(tagged_docs.values)])\n",
    "    return targets, regressors"
   ]
  },
  {
   "cell_type": "markdown",
   "metadata": {},
   "source": [
    "## Inferring doc vectors"
   ]
  },
  {
   "cell_type": "code",
   "execution_count": 15,
   "metadata": {
    "scrolled": true
   },
   "outputs": [
    {
     "name": "stderr",
     "output_type": "stream",
     "text": [
      "100%|██████████| 122106/122106 [07:02<00:00, 288.74it/s]\n",
      "100%|██████████| 52332/52332 [02:55<00:00, 297.56it/s]"
     ]
    },
    {
     "name": "stdout",
     "output_type": "stream",
     "text": [
      "CPU times: user 10min, sys: 743 ms, total: 10min\n",
      "Wall time: 9min 59s\n"
     ]
    },
    {
     "name": "stderr",
     "output_type": "stream",
     "text": [
      "\n"
     ]
    }
   ],
   "source": [
    "%%time\n",
    "y_train, X_train = vec_for_learning(model_dbow, train_tagged)\n",
    "y_test, X_test = vec_for_learning(model_dbow, test_tagged)"
   ]
  },
  {
   "cell_type": "code",
   "execution_count": 16,
   "metadata": {},
   "outputs": [],
   "source": [
    "go=True\n",
    "#go=True\n",
    "if go:\n",
    "    import joblib\n",
    "    if process_all:\n",
    "        joblib.dump(model_dbow, \"model_dbow_all_10_ep_Porter_no_bad_words.joblib\")\n",
    "        joblib.dump(X_train, \"X_train_all_10_ep_Porter_no_bad_words.joblib\")\n",
    "        joblib.dump(y_train, \"y_train_all_10_ep_Porter_no_bad_words.joblib\")\n",
    "        joblib.dump(X_test, \"X_test_all_10_ep_Porter_no_bad_words.joblib\")\n",
    "        joblib.dump(y_test, \"y_test_all_10_ep_Porter_no_bad_words.joblib\")"
   ]
  },
  {
   "cell_type": "code",
   "execution_count": 19,
   "metadata": {},
   "outputs": [
    {
     "name": "stdout",
     "output_type": "stream",
     "text": [
      "Testing accuracy 0.6514178541577478\n",
      "Testing F1 score: 0.6497767054978865\n"
     ]
    }
   ],
   "source": [
    "go=False\n",
    "#go=True\n",
    "\n",
    "if go:\n",
    "    logreg = LogisticRegression(n_jobs=5, C=1e5, solver=\"sag\")\n",
    "\n",
    "    logreg.fit(X_train, y_train)\n",
    "\n",
    "    y_pred = logreg.predict(X_test)\n",
    "\n",
    "    from sklearn.metrics import accuracy_score, f1_score\n",
    "\n",
    "    print('Testing accuracy %s' % accuracy_score(y_test, y_pred))\n",
    "    print('Testing F1 score: {}'.format(f1_score(y_test, y_pred, average='weighted')))"
   ]
  },
  {
   "cell_type": "markdown",
   "metadata": {},
   "source": [
    "## Training dmm model"
   ]
  },
  {
   "cell_type": "code",
   "execution_count": 25,
   "metadata": {},
   "outputs": [
    {
     "name": "stderr",
     "output_type": "stream",
     "text": [
      "100%|██████████| 122106/122106 [00:00<00:00, 3268678.90it/s]\n"
     ]
    }
   ],
   "source": [
    "model_dmm = Doc2Vec(dm=1, dm_mean=1, vector_size=300, window=10, negative=5, min_count=1, workers=5, alpha=0.065, min_alpha=0.065)\n",
    "model_dmm.build_vocab([x for x in tqdm(train_tagged.values)])"
   ]
  },
  {
   "cell_type": "code",
   "execution_count": 26,
   "metadata": {},
   "outputs": [
    {
     "name": "stderr",
     "output_type": "stream",
     "text": [
      "100%|██████████| 122106/122106 [00:00<00:00, 3452865.20it/s]\n",
      "100%|██████████| 122106/122106 [00:00<00:00, 2983407.80it/s]\n",
      "100%|██████████| 122106/122106 [00:00<00:00, 4542105.82it/s]\n",
      "100%|██████████| 122106/122106 [00:00<00:00, 3044070.76it/s]\n",
      "100%|██████████| 122106/122106 [00:00<00:00, 4038876.10it/s]\n",
      "100%|██████████| 122106/122106 [00:00<00:00, 3912855.05it/s]\n",
      "100%|██████████| 122106/122106 [00:00<00:00, 3783891.28it/s]\n",
      "100%|██████████| 122106/122106 [00:00<00:00, 3793448.47it/s]\n",
      "100%|██████████| 122106/122106 [00:00<00:00, 3993369.86it/s]\n",
      "100%|██████████| 122106/122106 [00:00<00:00, 4137546.83it/s]\n"
     ]
    },
    {
     "name": "stdout",
     "output_type": "stream",
     "text": [
      "CPU times: user 9min 4s, sys: 11.8 s, total: 9min 16s\n",
      "Wall time: 2min 20s\n"
     ]
    }
   ],
   "source": [
    "%%time\n",
    "for epoch in range(10):\n",
    "    model_dmm.train(utils.shuffle([x for x in tqdm(train_tagged.values)]), total_examples=len(train_tagged.values), epochs=1)\n",
    "    model_dmm.alpha -= 0.002\n",
    "    model_dmm.min_alpha = model_dmm.alpha"
   ]
  },
  {
   "cell_type": "code",
   "execution_count": 27,
   "metadata": {},
   "outputs": [
    {
     "name": "stderr",
     "output_type": "stream",
     "text": [
      "100%|██████████| 122106/122106 [09:37<00:00, 211.48it/s]\n",
      "100%|██████████| 52332/52332 [03:57<00:00, 220.01it/s]\n"
     ]
    }
   ],
   "source": [
    "y_train_dmm, X_train_dmm = vec_for_learning(model_dmm, train_tagged)\n",
    "y_test_dmm, X_test_dmm = vec_for_learning(model_dmm, test_tagged)\n"
   ]
  },
  {
   "cell_type": "code",
   "execution_count": 28,
   "metadata": {},
   "outputs": [],
   "source": [
    "#go=False\n",
    "go=True\n",
    "if go:\n",
    "    import joblib\n",
    "    if process_all:\n",
    "        joblib.dump(model_dbow, \"model_ddm_all_10_ep_Porter_no_badwords.joblib\")\n",
    "        joblib.dump(X_train_dmm, \"X_train_all_ddm_10_ep_Porter_no_badwords.joblib\")\n",
    "        joblib.dump(y_train_dmm, \"y_train_all_ddm_10_ep_Porter_no_badwords.joblib\")\n",
    "        joblib.dump(X_test_dmm, \"X_test_all_ddm_10_ep_Porter_no_badwords.joblib\")\n",
    "        joblib.dump(y_test_dmm, \"y_test_all_ddm_10_ep_Porter_no_badwords.joblib\")"
   ]
  },
  {
   "cell_type": "markdown",
   "metadata": {},
   "source": [
    "## Concat models"
   ]
  },
  {
   "cell_type": "code",
   "execution_count": 48,
   "metadata": {},
   "outputs": [],
   "source": [
    "model_dbow.delete_temporary_training_data(keep_doctags_vectors=True, keep_inference=True)\n",
    "model_dmm.delete_temporary_training_data(keep_doctags_vectors=True, keep_inference=True)"
   ]
  },
  {
   "cell_type": "code",
   "execution_count": 49,
   "metadata": {},
   "outputs": [],
   "source": [
    "from gensim.test.test_doc2vec import ConcatenatedDoc2Vec\n",
    "new_model = ConcatenatedDoc2Vec([model_dbow, model_dmm])"
   ]
  },
  {
   "cell_type": "code",
   "execution_count": 50,
   "metadata": {},
   "outputs": [
    {
     "name": "stderr",
     "output_type": "stream",
     "text": [
      "100%|██████████| 122106/122106 [17:56<00:00, 113.42it/s]\n",
      "100%|██████████| 52332/52332 [07:39<00:00, 113.77it/s]\n"
     ]
    }
   ],
   "source": [
    "y_train_pair, X_train_pair = vec_for_learning(new_model, train_tagged)\n",
    "y_test_pair, X_test_pair = vec_for_learning(new_model, test_tagged)"
   ]
  },
  {
   "cell_type": "code",
   "execution_count": 54,
   "metadata": {},
   "outputs": [],
   "source": [
    "go=True\n",
    "if go:\n",
    "    import joblib\n",
    "    if process_all:\n",
    "        joblib.dump(new_model, \"model_pair_all_10_ep_Porter_no_badwords.joblib\")\n",
    "        joblib.dump(X_train_pair, \"X_train_all_pair_10_ep_Porter_no_badwords.joblib\")\n",
    "        joblib.dump(y_train_pair, \"y_train_all_pair_10_ep_Porter_no_badwords.joblib\")\n",
    "        joblib.dump(X_test_pair, \"X_test_all_pair_10_ep_Porter_no_badwords.joblib\")\n",
    "        joblib.dump(y_test_pair, \"y_test_all_pair_10_ep_Porter_no_badwords.joblib\")"
   ]
  },
  {
   "cell_type": "markdown",
   "metadata": {},
   "source": [
    "## Classification"
   ]
  },
  {
   "cell_type": "code",
   "execution_count": 18,
   "metadata": {},
   "outputs": [],
   "source": [
    "from sklearn.model_selection import train_test_split, GridSearchCV\n",
    "from sklearn.feature_extraction.text import CountVectorizer, TfidfVectorizer\n",
    "\n",
    "from sklearn.naive_bayes import MultinomialNB\n",
    "from sklearn.ensemble import RandomForestClassifier\n",
    "from sklearn import metrics\n",
    "from sklearn.metrics import classification_report, roc_curve, auc"
   ]
  },
  {
   "cell_type": "code",
   "execution_count": 23,
   "metadata": {},
   "outputs": [],
   "source": [
    "forest = RandomForestClassifier(n_jobs=4, n_estimators=100) \n",
    "forest = forest.fit(X_train, y_train)"
   ]
  },
  {
   "cell_type": "code",
   "execution_count": 35,
   "metadata": {},
   "outputs": [],
   "source": [
    "save=True\n",
    "if save:\n",
    "    joblib.dump(forest, \"model_rf_dbow_68acc.joblib\")"
   ]
  },
  {
   "cell_type": "code",
   "execution_count": 24,
   "metadata": {},
   "outputs": [
    {
     "name": "stdout",
     "output_type": "stream",
     "text": [
      "0.6882404647252159\n",
      "                          precision    recall  f1-score   support\n",
      "\n",
      "                    LGBT       0.96      0.39      0.55       474\n",
      "   alternative lifestyle       0.97      0.77      0.86       227\n",
      "              book clubs       0.74      0.45      0.56       381\n",
      "         career business       0.69      0.77      0.73      5124\n",
      "        cars motorcycles       0.95      0.47      0.63       388\n",
      "   community environment       0.76      0.44      0.56       931\n",
      "                 dancing       0.83      0.76      0.80      1223\n",
      "      education learning       0.77      0.48      0.59      1023\n",
      "          fashion beauty       0.83      0.23      0.36       109\n",
      "       fine arts culture       0.81      0.53      0.64      1188\n",
      "                 fitness       0.78      0.69      0.73      2329\n",
      "              food drink       0.73      0.53      0.61      1458\n",
      "                   games       0.82      0.80      0.81      1472\n",
      "        health wellbeing       0.67      0.73      0.70      4998\n",
      "          hobbies crafts       0.79      0.58      0.67       498\n",
      "language ethnic identity       0.79      0.57      0.66      1992\n",
      "      movements politics       0.68      0.63      0.65       974\n",
      "             movies film       0.72      0.46      0.56       567\n",
      "                   music       0.81      0.59      0.68       978\n",
      "    new age spirituality       0.75      0.69      0.72      3210\n",
      "      outdoors adventure       0.74      0.83      0.78      5582\n",
      "              paranormal       1.00      0.17      0.29        30\n",
      "          parents family       0.89      0.44      0.59       743\n",
      "            pets animals       0.92      0.41      0.57       299\n",
      "             photography       0.94      0.71      0.81       626\n",
      "        religion beliefs       0.75      0.48      0.59       782\n",
      "          sci-fi fantasy       0.87      0.33      0.47       249\n",
      "                 singles       0.61      0.30      0.40       837\n",
      "             socializing       0.47      0.70      0.56      5244\n",
      "       sports recreation       0.85      0.78      0.81      2621\n",
      "                 support       0.90      0.39      0.55       429\n",
      "                    tech       0.60      0.85      0.70      4920\n",
      "                 writing       0.90      0.61      0.73       426\n",
      "\n",
      "                accuracy                           0.69     52332\n",
      "               macro avg       0.80      0.56      0.63     52332\n",
      "            weighted avg       0.72      0.69      0.69     52332\n",
      "\n"
     ]
    }
   ],
   "source": [
    "print(forest.score(X_test, y_test))\n",
    "\n",
    "predictions = forest.predict(X_test)\n",
    "\n",
    "print(metrics.classification_report(y_test, predictions)) #100 features"
   ]
  },
  {
   "cell_type": "code",
   "execution_count": 44,
   "metadata": {},
   "outputs": [],
   "source": [
    "forest1 = RandomForestClassifier(n_jobs=6, n_estimators=200) \n",
    "forest1 = forest.fit(X_train_dmm, y_train_dmm)"
   ]
  },
  {
   "cell_type": "code",
   "execution_count": 45,
   "metadata": {},
   "outputs": [
    {
     "data": {
      "text/plain": [
       "0.511083084919361"
      ]
     },
     "execution_count": 45,
     "metadata": {},
     "output_type": "execute_result"
    }
   ],
   "source": [
    "forest1.score(X_test_dmm, y_test_dmm)"
   ]
  },
  {
   "cell_type": "code",
   "execution_count": 52,
   "metadata": {},
   "outputs": [],
   "source": [
    "save=True\n",
    "if save:\n",
    "    joblib.dump(forest1, \"model_rf_dmm_52acc.joblib\")"
   ]
  },
  {
   "cell_type": "code",
   "execution_count": 47,
   "metadata": {
    "scrolled": true
   },
   "outputs": [
    {
     "name": "stdout",
     "output_type": "stream",
     "text": [
      "                          precision    recall  f1-score   support\n",
      "\n",
      "                    LGBT       1.00      0.20      0.33       474\n",
      "   alternative lifestyle       0.90      0.69      0.78       227\n",
      "              book clubs       0.95      0.11      0.19       381\n",
      "         career business       0.45      0.65      0.54      5124\n",
      "        cars motorcycles       0.99      0.17      0.29       388\n",
      "   community environment       0.96      0.18      0.30       931\n",
      "                 dancing       0.89      0.39      0.55      1223\n",
      "      education learning       0.87      0.26      0.39      1023\n",
      "          fashion beauty       0.92      0.10      0.18       109\n",
      "       fine arts culture       0.92      0.22      0.35      1188\n",
      "                 fitness       0.72      0.40      0.51      2329\n",
      "              food drink       0.83      0.24      0.37      1458\n",
      "                   games       0.85      0.46      0.60      1472\n",
      "        health wellbeing       0.43      0.64      0.51      4998\n",
      "          hobbies crafts       0.88      0.19      0.32       498\n",
      "language ethnic identity       0.84      0.32      0.47      1992\n",
      "      movements politics       0.96      0.35      0.52       974\n",
      "             movies film       0.88      0.15      0.26       567\n",
      "                   music       0.95      0.22      0.35       978\n",
      "    new age spirituality       0.64      0.49      0.56      3210\n",
      "      outdoors adventure       0.53      0.76      0.62      5582\n",
      "              paranormal       1.00      0.03      0.06        30\n",
      "          parents family       0.98      0.16      0.28       743\n",
      "            pets animals       0.96      0.15      0.27       299\n",
      "             photography       1.00      0.36      0.53       626\n",
      "        religion beliefs       0.91      0.16      0.27       782\n",
      "          sci-fi fantasy       0.94      0.13      0.23       249\n",
      "                 singles       0.63      0.15      0.25       837\n",
      "             socializing       0.34      0.60      0.43      5244\n",
      "       sports recreation       0.78      0.61      0.69      2621\n",
      "                 support       0.93      0.16      0.27       429\n",
      "                    tech       0.44      0.81      0.57      4920\n",
      "                 writing       1.00      0.17      0.29       426\n",
      "\n",
      "                accuracy                           0.51     52332\n",
      "               macro avg       0.83      0.32      0.40     52332\n",
      "            weighted avg       0.64      0.51      0.49     52332\n",
      "\n"
     ]
    }
   ],
   "source": [
    "predictions = forest1.predict(X_test_dmm)\n",
    "print(metrics.classification_report(y_test_dmm, predictions)) #100 features"
   ]
  },
  {
   "cell_type": "markdown",
   "metadata": {},
   "source": [
    "### Final model"
   ]
  },
  {
   "cell_type": "code",
   "execution_count": 55,
   "metadata": {},
   "outputs": [],
   "source": [
    "forest_pair = RandomForestClassifier(n_jobs=6) \n",
    "forest_pair = forest.fit(X_train_pair, y_train_pair)"
   ]
  },
  {
   "cell_type": "markdown",
   "metadata": {},
   "source": []
  },
  {
   "cell_type": "code",
   "execution_count": 56,
   "metadata": {},
   "outputs": [
    {
     "data": {
      "text/plain": [
       "0.6799281510356951"
      ]
     },
     "execution_count": 56,
     "metadata": {},
     "output_type": "execute_result"
    }
   ],
   "source": [
    "forest_pair.score(X_test_pair, y_test_pair)#100feat"
   ]
  },
  {
   "cell_type": "code",
   "execution_count": 57,
   "metadata": {},
   "outputs": [],
   "source": [
    "save=True\n",
    "if save:\n",
    "    joblib.dump(forest_pair, \"model_rf_pair.joblib\")"
   ]
  },
  {
   "cell_type": "code",
   "execution_count": 58,
   "metadata": {},
   "outputs": [
    {
     "name": "stdout",
     "output_type": "stream",
     "text": [
      "                          precision    recall  f1-score   support\n",
      "\n",
      "                    LGBT       0.96      0.38      0.54       474\n",
      "   alternative lifestyle       0.97      0.75      0.85       227\n",
      "              book clubs       0.78      0.45      0.57       381\n",
      "         career business       0.68      0.77      0.72      5124\n",
      "        cars motorcycles       0.98      0.44      0.60       388\n",
      "   community environment       0.79      0.43      0.56       931\n",
      "                 dancing       0.83      0.75      0.79      1223\n",
      "      education learning       0.78      0.45      0.57      1023\n",
      "          fashion beauty       0.92      0.22      0.36       109\n",
      "       fine arts culture       0.81      0.52      0.64      1188\n",
      "                 fitness       0.78      0.68      0.73      2329\n",
      "              food drink       0.74      0.52      0.61      1458\n",
      "                   games       0.82      0.80      0.81      1472\n",
      "        health wellbeing       0.66      0.73      0.69      4998\n",
      "          hobbies crafts       0.79      0.56      0.66       498\n",
      "language ethnic identity       0.80      0.56      0.66      1992\n",
      "      movements politics       0.70      0.61      0.66       974\n",
      "             movies film       0.72      0.42      0.53       567\n",
      "                   music       0.80      0.56      0.66       978\n",
      "    new age spirituality       0.75      0.68      0.71      3210\n",
      "      outdoors adventure       0.72      0.83      0.77      5582\n",
      "              paranormal       1.00      0.17      0.29        30\n",
      "          parents family       0.90      0.41      0.56       743\n",
      "            pets animals       0.92      0.37      0.53       299\n",
      "             photography       0.94      0.69      0.80       626\n",
      "        religion beliefs       0.79      0.46      0.58       782\n",
      "          sci-fi fantasy       0.85      0.31      0.45       249\n",
      "                 singles       0.59      0.28      0.38       837\n",
      "             socializing       0.45      0.69      0.55      5244\n",
      "       sports recreation       0.84      0.77      0.81      2621\n",
      "                 support       0.91      0.37      0.52       429\n",
      "                    tech       0.59      0.85      0.70      4920\n",
      "                 writing       0.92      0.59      0.72       426\n",
      "\n",
      "                accuracy                           0.68     52332\n",
      "               macro avg       0.80      0.55      0.62     52332\n",
      "            weighted avg       0.71      0.68      0.68     52332\n",
      "\n"
     ]
    }
   ],
   "source": [
    "predictions = forest_pair.predict(X_test_pair)\n",
    "print(metrics.classification_report(y_test_pair, predictions)) #100 features"
   ]
  },
  {
   "cell_type": "code",
   "execution_count": 20,
   "metadata": {},
   "outputs": [
    {
     "data": {
      "text/plain": [
       "0.6302453565695941"
      ]
     },
     "execution_count": 20,
     "metadata": {},
     "output_type": "execute_result"
    }
   ],
   "source": [
    "forest.score(X_test, y_test)\n",
    "\n",
    "predictions = forest.predict(X_test)\n",
    "\n",
    "\n",
    "print(metrics.classification_report(y_test, predictions)) #100 features"
   ]
  },
  {
   "cell_type": "code",
   "execution_count": null,
   "metadata": {},
   "outputs": [],
   "source": []
  }
 ],
 "metadata": {
  "kernelspec": {
   "display_name": "Python 3",
   "language": "python",
   "name": "python3"
  },
  "language_info": {
   "codemirror_mode": {
    "name": "ipython",
    "version": 3
   },
   "file_extension": ".py",
   "mimetype": "text/x-python",
   "name": "python",
   "nbconvert_exporter": "python",
   "pygments_lexer": "ipython3",
   "version": "3.6.8"
  }
 },
 "nbformat": 4,
 "nbformat_minor": 2
}
